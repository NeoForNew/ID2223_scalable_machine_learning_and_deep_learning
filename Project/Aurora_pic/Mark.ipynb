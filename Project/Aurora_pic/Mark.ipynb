{
 "cells": [
  {
   "cell_type": "code",
   "execution_count": 1,
   "metadata": {},
   "outputs": [],
   "source": [
    "import cv2\n",
    "import datetime\n",
    "import numpy as np\n"
   ]
  },
  {
   "cell_type": "code",
   "execution_count": 2,
   "metadata": {},
   "outputs": [],
   "source": [
    "# Read all the PNG pics into a dict named Images key: Date(20210101) Value: RGB of the pic of that day\n",
    "start = datetime.datetime.fromisoformat('2020-12-31')\n",
    "delta = datetime.timedelta(days=1)\n",
    "end = start + datetime.timedelta(days=365)\n",
    "endnow=str(end.strftime('%Y%m%d'))\n",
    "offset=start\n",
    "# store the date\n",
    "keys= []\n",
    "# store the image date\n",
    "Images = {}\n",
    "while str(offset.strftime('%Y%m%d')) != endnow:\n",
    "    offset += delta\n",
    "    date = str(offset.strftime('%Y%m%d'))\n",
    "    keys.append(date)\n",
    "    path = './Png/' + date + '.png'\n",
    "    Images[date] = cv2.imread(path)\n"
   ]
  },
  {
   "cell_type": "code",
   "execution_count": 3,
   "metadata": {},
   "outputs": [],
   "source": [
    "# Use the keys list to iterate the date\n",
    "Mark_data = []\n",
    "lower_green = np.array([40,80,40])\n",
    "upper_green = np.array([90,255,255])\n",
    "for i in range(0,365):\n",
    "    key = keys[i]\n",
    "    image = Images[key]\n",
    "    if image is None:\n",
    "        for a in range(0,24):\n",
    "            Mark_data.append(0)\n",
    "        continue\n",
    "    else:\n",
    "        for hour in range(0,5760,240):\n",
    "            img = image[:,hour:hour+240]\n",
    "            hsv = cv2.cvtColor(img, cv2.COLOR_BGR2HSV)\n",
    "            #set the lower and upper bounds for the green hue\n",
    "\n",
    "            #create a mask for green colour using inRange functio\n",
    "            Mask = cv2.inRange(hsv,lower_green,upper_green)\n",
    "            white = 0\n",
    "            x,y = Mask.shape\n",
    "            for i in range(x):\n",
    "                for j in range(y):\n",
    "                    if Mask[i][j] != 0:\n",
    "                        white+=1\n",
    "            rate = white/(x*y)\n",
    "            if rate > 0.05:\n",
    "                Mark_data.append(1)\n",
    "            else:\n",
    "                Mark_data.append(0)\n",
    "\n",
    "\n",
    "\n",
    "        \n"
   ]
  },
  {
   "cell_type": "code",
   "execution_count": null,
   "metadata": {},
   "outputs": [],
   "source": [
    "import json\n",
    "import os\n",
    "with open('Aurora.json', 'w') as  f:\n",
    "    json.dump(Mark_data, f)"
   ]
  },
  {
   "cell_type": "code",
   "execution_count": 8,
   "metadata": {},
   "outputs": [
    {
     "name": "stdout",
     "output_type": "stream",
     "text": [
      "白色占比: 9.36 %\n",
      "[[  0   0   0 ...   0   0   0]\n",
      " [  0   0   0 ... 255 255 255]\n",
      " [  0   0   0 ... 255 255   0]\n",
      " ...\n",
      " [  0   0   0 ...   0   0   0]\n",
      " [  0   0   0 ...   0   0   0]\n",
      " [  0   0   0 ...   0   0   0]]\n"
     ]
    }
   ],
   "source": [
    "img = Images['20211017'][:,2401:2641]\n",
    "test = img\n",
    "hsv = cv2.cvtColor(img, cv2.COLOR_BGR2HSV)\n",
    "#set the lower and upper bounds for the green hue\n",
    "lower_green = np.array([40,80,40])\n",
    "upper_green = np.array([90,255,255])\n",
    "#create a mask for green colour using inRange functio\n",
    "Mask = cv2.inRange(hsv,lower_green,upper_green)\n",
    "#perform bitwise and on the original image arrays using the mask\n",
    "res= cv2.bitwise_and(img,img,mask = Mask)\n",
    "cv2.namedWindow(\"mask\",cv2.WINDOW_NORMAL)\n",
    "#display the images\n",
    "black = 0\n",
    "white = 0\n",
    "x,y = Mask.shape\n",
    "for i in range(x):\n",
    "    for j in range(y):\n",
    "        if Mask[i][j] != 0:\n",
    "            white+=1\n",
    "rate1 = white/(x*y)\n",
    "# round()第二个值为保留几位有效小数。\n",
    "print(\"白色占比:\", round(rate1*100,2),'%')\n",
    "print(Mask)\n",
    "cv2.imshow(\"mask\",Mask)\n",
    "cv2.imshow('image', test)\n",
    "cv2.waitKey(0)\n",
    "cv2.destroyAllWindows()\n",
    " "
   ]
  },
  {
   "cell_type": "code",
   "execution_count": 10,
   "metadata": {},
   "outputs": [],
   "source": [
    "test = Images['20211130'][:,2401:2641]"
   ]
  },
  {
   "cell_type": "code",
   "execution_count": 54,
   "metadata": {},
   "outputs": [
    {
     "data": {
      "text/plain": [
       "array([[[ 73, 107,  59],\n",
       "        [ 73, 107,  59],\n",
       "        [ 73, 107,  59],\n",
       "        ...,\n",
       "        [ 59, 107,  52],\n",
       "        [ 59, 107,  52],\n",
       "        [ 89, 134,  75]],\n",
       "\n",
       "       [[ 59, 107,  52],\n",
       "        [ 59, 107,  52],\n",
       "        [ 89, 134,  75],\n",
       "        ...,\n",
       "        [ 59, 107,  52],\n",
       "        [ 79, 142,  79],\n",
       "        [ 59, 107,  52]],\n",
       "\n",
       "       [[ 59, 107,  52],\n",
       "        [ 59, 107,  52],\n",
       "        [ 73, 107,  59],\n",
       "        ...,\n",
       "        [ 79, 142,  79],\n",
       "        [ 59, 107,  52],\n",
       "        [ 59, 107,  52]],\n",
       "\n",
       "       ...,\n",
       "\n",
       "       [[ 53,  79,  54],\n",
       "        [ 70,  85,  60],\n",
       "        [ 53,  79,  54],\n",
       "        ...,\n",
       "        [ 53,  79,  54],\n",
       "        [ 70,  85,  60],\n",
       "        [ 53,  79,  54]],\n",
       "\n",
       "       [[ 70,  85,  60],\n",
       "        [ 70,  85,  60],\n",
       "        [ 70,  85,  60],\n",
       "        ...,\n",
       "        [ 67,  74,  56],\n",
       "        [ 67,  74,  56],\n",
       "        [ 70,  85,  60]],\n",
       "\n",
       "       [[ 70,  85,  60],\n",
       "        [ 50,  84,  77],\n",
       "        [ 70,  85,  60],\n",
       "        ...,\n",
       "        [ 53,  79,  54],\n",
       "        [ 53,  79,  54],\n",
       "        [ 53,  79,  54]]], dtype=uint8)"
      ]
     },
     "execution_count": 54,
     "metadata": {},
     "output_type": "execute_result"
    }
   ],
   "source": [
    "test"
   ]
  },
  {
   "cell_type": "code",
   "execution_count": 11,
   "metadata": {},
   "outputs": [],
   "source": [
    "cv2.imshow('image', test)\n",
    "cv2.waitKey(0)\n",
    "cv2.destroyAllWindows()"
   ]
  }
 ],
 "metadata": {
  "kernelspec": {
   "display_name": "base",
   "language": "python",
   "name": "python3"
  },
  "language_info": {
   "codemirror_mode": {
    "name": "ipython",
    "version": 3
   },
   "file_extension": ".py",
   "mimetype": "text/x-python",
   "name": "python",
   "nbconvert_exporter": "python",
   "pygments_lexer": "ipython3",
   "version": "3.9.7"
  },
  "orig_nbformat": 4,
  "vscode": {
   "interpreter": {
    "hash": "1a65a34f66e80bbe2d065655545d09228888749c66ffd2dacae6be7c7999e9bf"
   }
  }
 },
 "nbformat": 4,
 "nbformat_minor": 2
}
